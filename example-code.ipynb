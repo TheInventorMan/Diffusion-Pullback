{
  "nbformat": 4,
  "nbformat_minor": 0,
  "metadata": {
    "colab": {
      "provenance": [],
      "gpuType": "T4"
    },
    "kernelspec": {
      "name": "python3",
      "display_name": "Python 3"
    },
    "language_info": {
      "name": "python"
    },
    "accelerator": "GPU"
  },
  "cells": [
    {
      "cell_type": "code",
      "execution_count": 2,
      "metadata": {
        "colab": {
          "base_uri": "https://localhost:8080/"
        },
        "id": "ukZquLErabtJ",
        "outputId": "d517fa56-bd91-4d27-821f-ce98d43b9aa8"
      },
      "outputs": [
        {
          "output_type": "stream",
          "name": "stdout",
          "text": [
            "Cloning into 'Diffusion-Pullback'...\n",
            "remote: Enumerating objects: 109, done.\u001b[K\n",
            "remote: Counting objects: 100% (109/109), done.\u001b[K\n",
            "remote: Compressing objects: 100% (70/70), done.\u001b[K\n",
            "remote: Total 109 (delta 39), reused 105 (delta 37), pack-reused 0\u001b[K\n",
            "Receiving objects: 100% (109/109), 7.86 MiB | 25.87 MiB/s, done.\n",
            "Resolving deltas: 100% (39/39), done.\n",
            "Requirement already satisfied: torch==2.1.0 in /usr/local/lib/python3.10/dist-packages (from -r /content/Diffusion-Pullback/requirements.txt (line 1)) (2.1.0+cu118)\n",
            "Requirement already satisfied: torchvision==0.16.0 in /usr/local/lib/python3.10/dist-packages (from -r /content/Diffusion-Pullback/requirements.txt (line 2)) (0.16.0+cu118)\n",
            "Requirement already satisfied: tqdm==4.65.0 in /usr/local/lib/python3.10/dist-packages (from -r /content/Diffusion-Pullback/requirements.txt (line 3)) (4.65.0)\n",
            "Requirement already satisfied: diffusers==0.11.0 in /usr/local/lib/python3.10/dist-packages (from -r /content/Diffusion-Pullback/requirements.txt (line 4)) (0.11.0)\n",
            "Requirement already satisfied: einops==0.7.0 in /usr/local/lib/python3.10/dist-packages (from -r /content/Diffusion-Pullback/requirements.txt (line 5)) (0.7.0)\n",
            "Requirement already satisfied: matplotlib==3.7.1 in /usr/local/lib/python3.10/dist-packages (from -r /content/Diffusion-Pullback/requirements.txt (line 6)) (3.7.1)\n",
            "Requirement already satisfied: numpy==1.24.3 in /usr/local/lib/python3.10/dist-packages (from -r /content/Diffusion-Pullback/requirements.txt (line 7)) (1.24.3)\n",
            "Requirement already satisfied: accelerate==0.23.0 in /usr/local/lib/python3.10/dist-packages (from -r /content/Diffusion-Pullback/requirements.txt (line 8)) (0.23.0)\n",
            "Requirement already satisfied: transformers==4.34.1 in /usr/local/lib/python3.10/dist-packages (from -r /content/Diffusion-Pullback/requirements.txt (line 9)) (4.34.1)\n",
            "Requirement already satisfied: xformers in /usr/local/lib/python3.10/dist-packages (from -r /content/Diffusion-Pullback/requirements.txt (line 10)) (0.0.22.post4)\n",
            "Requirement already satisfied: filelock in /usr/local/lib/python3.10/dist-packages (from torch==2.1.0->-r /content/Diffusion-Pullback/requirements.txt (line 1)) (3.12.4)\n",
            "Requirement already satisfied: typing-extensions in /usr/local/lib/python3.10/dist-packages (from torch==2.1.0->-r /content/Diffusion-Pullback/requirements.txt (line 1)) (4.5.0)\n",
            "Requirement already satisfied: sympy in /usr/local/lib/python3.10/dist-packages (from torch==2.1.0->-r /content/Diffusion-Pullback/requirements.txt (line 1)) (1.12)\n",
            "Requirement already satisfied: networkx in /usr/local/lib/python3.10/dist-packages (from torch==2.1.0->-r /content/Diffusion-Pullback/requirements.txt (line 1)) (3.1)\n",
            "Requirement already satisfied: jinja2 in /usr/local/lib/python3.10/dist-packages (from torch==2.1.0->-r /content/Diffusion-Pullback/requirements.txt (line 1)) (3.1.2)\n",
            "Requirement already satisfied: fsspec in /usr/local/lib/python3.10/dist-packages (from torch==2.1.0->-r /content/Diffusion-Pullback/requirements.txt (line 1)) (2023.6.0)\n",
            "Requirement already satisfied: triton==2.1.0 in /usr/local/lib/python3.10/dist-packages (from torch==2.1.0->-r /content/Diffusion-Pullback/requirements.txt (line 1)) (2.1.0)\n",
            "Requirement already satisfied: requests in /usr/local/lib/python3.10/dist-packages (from torchvision==0.16.0->-r /content/Diffusion-Pullback/requirements.txt (line 2)) (2.31.0)\n",
            "Requirement already satisfied: pillow!=8.3.*,>=5.3.0 in /usr/local/lib/python3.10/dist-packages (from torchvision==0.16.0->-r /content/Diffusion-Pullback/requirements.txt (line 2)) (9.4.0)\n",
            "Requirement already satisfied: importlib-metadata in /usr/local/lib/python3.10/dist-packages (from diffusers==0.11.0->-r /content/Diffusion-Pullback/requirements.txt (line 4)) (6.8.0)\n",
            "Requirement already satisfied: huggingface-hub>=0.10.0 in /usr/local/lib/python3.10/dist-packages (from diffusers==0.11.0->-r /content/Diffusion-Pullback/requirements.txt (line 4)) (0.17.3)\n",
            "Requirement already satisfied: regex!=2019.12.17 in /usr/local/lib/python3.10/dist-packages (from diffusers==0.11.0->-r /content/Diffusion-Pullback/requirements.txt (line 4)) (2023.6.3)\n",
            "Requirement already satisfied: contourpy>=1.0.1 in /usr/local/lib/python3.10/dist-packages (from matplotlib==3.7.1->-r /content/Diffusion-Pullback/requirements.txt (line 6)) (1.1.1)\n",
            "Requirement already satisfied: cycler>=0.10 in /usr/local/lib/python3.10/dist-packages (from matplotlib==3.7.1->-r /content/Diffusion-Pullback/requirements.txt (line 6)) (0.12.1)\n",
            "Requirement already satisfied: fonttools>=4.22.0 in /usr/local/lib/python3.10/dist-packages (from matplotlib==3.7.1->-r /content/Diffusion-Pullback/requirements.txt (line 6)) (4.43.1)\n",
            "Requirement already satisfied: kiwisolver>=1.0.1 in /usr/local/lib/python3.10/dist-packages (from matplotlib==3.7.1->-r /content/Diffusion-Pullback/requirements.txt (line 6)) (1.4.5)\n",
            "Requirement already satisfied: packaging>=20.0 in /usr/local/lib/python3.10/dist-packages (from matplotlib==3.7.1->-r /content/Diffusion-Pullback/requirements.txt (line 6)) (23.2)\n",
            "Requirement already satisfied: pyparsing>=2.3.1 in /usr/local/lib/python3.10/dist-packages (from matplotlib==3.7.1->-r /content/Diffusion-Pullback/requirements.txt (line 6)) (3.1.1)\n",
            "Requirement already satisfied: python-dateutil>=2.7 in /usr/local/lib/python3.10/dist-packages (from matplotlib==3.7.1->-r /content/Diffusion-Pullback/requirements.txt (line 6)) (2.8.2)\n",
            "Requirement already satisfied: psutil in /usr/local/lib/python3.10/dist-packages (from accelerate==0.23.0->-r /content/Diffusion-Pullback/requirements.txt (line 8)) (5.9.5)\n",
            "Requirement already satisfied: pyyaml in /usr/local/lib/python3.10/dist-packages (from accelerate==0.23.0->-r /content/Diffusion-Pullback/requirements.txt (line 8)) (6.0.1)\n",
            "Requirement already satisfied: tokenizers<0.15,>=0.14 in /usr/local/lib/python3.10/dist-packages (from transformers==4.34.1->-r /content/Diffusion-Pullback/requirements.txt (line 9)) (0.14.1)\n",
            "Requirement already satisfied: safetensors>=0.3.1 in /usr/local/lib/python3.10/dist-packages (from transformers==4.34.1->-r /content/Diffusion-Pullback/requirements.txt (line 9)) (0.4.0)\n",
            "Requirement already satisfied: six>=1.5 in /usr/local/lib/python3.10/dist-packages (from python-dateutil>=2.7->matplotlib==3.7.1->-r /content/Diffusion-Pullback/requirements.txt (line 6)) (1.16.0)\n",
            "Requirement already satisfied: zipp>=0.5 in /usr/local/lib/python3.10/dist-packages (from importlib-metadata->diffusers==0.11.0->-r /content/Diffusion-Pullback/requirements.txt (line 4)) (3.17.0)\n",
            "Requirement already satisfied: MarkupSafe>=2.0 in /usr/local/lib/python3.10/dist-packages (from jinja2->torch==2.1.0->-r /content/Diffusion-Pullback/requirements.txt (line 1)) (2.1.3)\n",
            "Requirement already satisfied: charset-normalizer<4,>=2 in /usr/local/lib/python3.10/dist-packages (from requests->torchvision==0.16.0->-r /content/Diffusion-Pullback/requirements.txt (line 2)) (3.3.0)\n",
            "Requirement already satisfied: idna<4,>=2.5 in /usr/local/lib/python3.10/dist-packages (from requests->torchvision==0.16.0->-r /content/Diffusion-Pullback/requirements.txt (line 2)) (3.4)\n",
            "Requirement already satisfied: urllib3<3,>=1.21.1 in /usr/local/lib/python3.10/dist-packages (from requests->torchvision==0.16.0->-r /content/Diffusion-Pullback/requirements.txt (line 2)) (2.0.7)\n",
            "Requirement already satisfied: certifi>=2017.4.17 in /usr/local/lib/python3.10/dist-packages (from requests->torchvision==0.16.0->-r /content/Diffusion-Pullback/requirements.txt (line 2)) (2023.7.22)\n",
            "Requirement already satisfied: mpmath>=0.19 in /usr/local/lib/python3.10/dist-packages (from sympy->torch==2.1.0->-r /content/Diffusion-Pullback/requirements.txt (line 1)) (1.3.0)\n"
          ]
        }
      ],
      "source": [
        "!git clone https://github.com/enkeejunior1/Diffusion-Pullback.git\n",
        "!pip install -r /content/Diffusion-Pullback/requirements.txt"
      ]
    },
    {
      "cell_type": "code",
      "source": [
        "%cd /content/Diffusion-Pullback/src\n",
        "!bash /content/Diffusion-Pullback/src/scripts/main_various_local_encoder_pullback_with_edit_prompt.sh"
      ],
      "metadata": {
        "colab": {
          "base_uri": "https://localhost:8080/"
        },
        "id": "220Kr7kGb8Ns",
        "outputId": "626a07ef-317d-418d-cd92-07d5854dd7a5"
      },
      "execution_count": null,
      "outputs": [
        {
          "output_type": "stream",
          "name": "stdout",
          "text": [
            "/content/Diffusion-Pullback/src\n",
            "WARNING[XFORMERS]: xFormers can't load C++/CUDA extensions. xFormers was built for:\n",
            "    PyTorch 2.1.0+cu121 with CUDA 1201 (you have 2.1.0+cu118)\n",
            "    Python  3.10.13 (you have 3.10.12)\n",
            "  Please reinstall xformers (see https://github.com/facebookresearch/xformers#installing-xformers)\n",
            "  Memory-efficient attention, SwiGLU, sparse and more won't be available.\n",
            "  Set XFORMERS_MORE_DETAILS=1 for more details\n",
            "WARNING: All log messages before absl::InitializeLog() is called are written to STDERR\n",
            "I0000 00:00:1698029583.066442    3405 tfrt_cpu_pjrt_client.cc:349] TfrtCpuClient created.\n",
            "2023-10-23 02:53:09.497241: W tensorflow/compiler/tf2tensorrt/utils/py_utils.cc:38] TF-TRT Warning: Could not find TensorRT\n",
            "device : cuda:0, dtype : torch.float32\n",
            "is stable-diffusion\n",
            "text_encoder/pytorch_model.fp16.safetensors not found\n",
            "Fetching 22 files: 100% 22/22 [00:00<00:00, 18297.58it/s]\n",
            "current experiment : idx : 5, op : mid, block_idx : 0, vis_num : 4, vis_num_pc : 2, pca_rank : 2, edit_prompt : sitting dog\n",
            "start DDIMinversion\n",
            "start DDIMforward\n",
            "do_classifier_free_guidance :  False\n",
            "self.neg_prompt : \n",
            "self.for_prompt : \n",
            "t_start_idx :  0\n",
            "t_end_idx :  30\n",
            "!!!RUN LOCAL PULLBACK!!!\n",
            "power method : 0-th step convergence :  1.9601521492004395\n",
            "power method : 1-th step convergence :  0.38498827815055847\n",
            "power method : 2-th step convergence :  0.16354487836360931\n",
            "power method : 3-th step convergence :  0.0884961187839508\n",
            "power method : 4-th step convergence :  0.048355866223573685\n",
            "power method : 5-th step convergence :  0.026547178626060486\n",
            "power method : 6-th step convergence :  0.014652754180133343\n",
            "power method : 7-th step convergence :  0.008123833686113358\n",
            "power method : 8-th step convergence :  0.004518854431807995\n",
            "power method : 9-th step convergence :  0.002519340720027685\n",
            "power method : 10-th step convergence :  0.0014067873125895858\n",
            "power method : 11-th step convergence :  0.0007863134378567338\n",
            "reach convergence threshold :  0.0007863134378567338\n",
            "power method runtime == 14.309886455535889\n",
            "x_space_guidance edit: 100% 16/16 [00:10<00:00,  1.55it/s]\n",
            "start DDIMforward\n",
            "do_classifier_free_guidance :  False\n",
            "self.neg_prompt : \n",
            "self.for_prompt : \n",
            "t_start_idx :  30\n",
            "x_space_guidance edit: 100% 16/16 [00:07<00:00,  2.14it/s]\n",
            "start DDIMforward\n",
            "do_classifier_free_guidance :  False\n",
            "self.neg_prompt : \n",
            "self.for_prompt : \n",
            "t_start_idx :  30\n",
            "x_space_guidance edit: 100% 16/16 [00:07<00:00,  2.13it/s]\n",
            "start DDIMforward\n",
            "do_classifier_free_guidance :  False\n",
            "self.neg_prompt : \n",
            "self.for_prompt : \n",
            "t_start_idx :  30\n",
            "x_space_guidance edit: 100% 16/16 [00:07<00:00,  2.13it/s]\n",
            "start DDIMforward\n",
            "do_classifier_free_guidance :  False\n",
            "self.neg_prompt : \n",
            "self.for_prompt : \n",
            "t_start_idx :  30\n"
          ]
        }
      ]
    }
  ]
}